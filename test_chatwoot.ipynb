{
 "cells": [
  {
   "cell_type": "code",
   "execution_count": 5,
   "metadata": {},
   "outputs": [
    {
     "name": "stdout",
     "output_type": "stream",
     "text": [
      "✅ send_message succeeded: {'id': 277, 'content': 'Hello, this is a test message!', 'inbox_id': 1, 'conversation_id': 20, 'message_type': 1, 'content_type': 'text', 'status': 'sent', 'content_attributes': {}, 'created_at': 1740593173, 'private': False, 'source_id': None, 'sender': {'id': 1, 'name': 'Agent Bot', 'avatar_url': '', 'type': 'agent_bot'}}\n"
     ]
    },
    {
     "name": "stderr",
     "output_type": "stream",
     "text": [
      "Status update failed for conversation 20:\n",
      "URL: https://chat.iditelesom.dev/api/v1/accounts/1/conversations/20\n",
      "Status: 500\n",
      "Response: {\"status\":500,\"error\":\"Internal Server Error\"}\n",
      "Payload: {'status': 'pending'}\n",
      "Traceback (most recent call last):\n",
      "  File \"/home/alexbalandi/teplitsa/chatwoot-dify/app/api/chatwoot.py\", line 70, in update_conversation_status\n",
      "    response.raise_for_status()\n",
      "  File \"/home/alexbalandi/teplitsa/chatwoot-dify/.venv/lib/python3.12/site-packages/httpx/_models.py\", line 829, in raise_for_status\n",
      "    raise HTTPStatusError(message, request=request, response=self)\n",
      "httpx.HTTPStatusError: Server error '500 Internal Server Error' for url 'https://chat.iditelesom.dev/api/v1/accounts/1/conversations/20'\n",
      "For more information check: https://developer.mozilla.org/en-US/docs/Web/HTTP/Status/500\n"
     ]
    },
    {
     "name": "stdout",
     "output_type": "stream",
     "text": [
      "❌ update_conversation_status failed: Server error '500 Internal Server Error' for url 'https://chat.iditelesom.dev/api/v1/accounts/1/conversations/20'\n",
      "For more information check: https://developer.mozilla.org/en-US/docs/Web/HTTP/Status/500\n",
      "✅ add_labels succeeded: {'payload': ['test_label', 'automated']}\n"
     ]
    },
    {
     "name": "stderr",
     "output_type": "stream",
     "text": [
      "Get conversation failed for 20:\n",
      "URL: https://chat.iditelesom.dev/api/v1/accounts/1/conversations/20\n",
      "Status: 500\n",
      "Response: {\"status\":500,\"error\":\"Internal Server Error\"}\n",
      "Traceback (most recent call last):\n",
      "  File \"/home/alexbalandi/teplitsa/chatwoot-dify/app/api/chatwoot.py\", line 101, in get_conversation_data\n",
      "    response.raise_for_status()\n",
      "  File \"/home/alexbalandi/teplitsa/chatwoot-dify/.venv/lib/python3.12/site-packages/httpx/_models.py\", line 829, in raise_for_status\n",
      "    raise HTTPStatusError(message, request=request, response=self)\n",
      "httpx.HTTPStatusError: Server error '500 Internal Server Error' for url 'https://chat.iditelesom.dev/api/v1/accounts/1/conversations/20'\n",
      "For more information check: https://developer.mozilla.org/en-US/docs/Web/HTTP/Status/500\n"
     ]
    },
    {
     "name": "stdout",
     "output_type": "stream",
     "text": [
      "❌ get_conversation_data failed: Server error '500 Internal Server Error' for url 'https://chat.iditelesom.dev/api/v1/accounts/1/conversations/20'\n",
      "For more information check: https://developer.mozilla.org/en-US/docs/Web/HTTP/Status/500\n",
      "✅ assign_conversation succeeded: {'id': 1, 'account_id': 1, 'availability_status': 'offline', 'auto_offline': True, 'confirmed': True, 'email': 'admin@iditelesom.org', 'available_name': 'Admin', 'name': 'Admin', 'role': 'administrator', 'thumbnail': ''}\n"
     ]
    },
    {
     "name": "stderr",
     "output_type": "stream",
     "text": [
      "Get conversation failed for 20:\n",
      "URL: https://chat.iditelesom.dev/api/v1/accounts/1/conversations/20\n",
      "Status: 500\n",
      "Response: {\"status\":500,\"error\":\"Internal Server Error\"}\n",
      "Traceback (most recent call last):\n",
      "  File \"/home/alexbalandi/teplitsa/chatwoot-dify/app/api/chatwoot.py\", line 101, in get_conversation_data\n",
      "    response.raise_for_status()\n",
      "  File \"/home/alexbalandi/teplitsa/chatwoot-dify/.venv/lib/python3.12/site-packages/httpx/_models.py\", line 829, in raise_for_status\n",
      "    raise HTTPStatusError(message, request=request, response=self)\n",
      "httpx.HTTPStatusError: Server error '500 Internal Server Error' for url 'https://chat.iditelesom.dev/api/v1/accounts/1/conversations/20'\n",
      "For more information check: https://developer.mozilla.org/en-US/docs/Web/HTTP/Status/500\n",
      "Failed to update custom attributes for convo 20: Server error '500 Internal Server Error' for url 'https://chat.iditelesom.dev/api/v1/accounts/1/conversations/20'\n",
      "For more information check: https://developer.mozilla.org/en-US/docs/Web/HTTP/Status/500\n",
      "Priority update failed for conversation 20:\n",
      "URL: https://chat.iditelesom.dev/api/v1/accounts/1/conversations/20\n",
      "Status: 500\n",
      "Response: {\"status\":500,\"error\":\"Internal Server Error\"}\n",
      "Priority: high\n",
      "Traceback (most recent call last):\n",
      "  File \"/home/alexbalandi/teplitsa/chatwoot-dify/app/api/chatwoot.py\", line 158, in toggle_priority\n",
      "    response.raise_for_status()\n",
      "  File \"/home/alexbalandi/teplitsa/chatwoot-dify/.venv/lib/python3.12/site-packages/httpx/_models.py\", line 829, in raise_for_status\n",
      "    raise HTTPStatusError(message, request=request, response=self)\n",
      "httpx.HTTPStatusError: Server error '500 Internal Server Error' for url 'https://chat.iditelesom.dev/api/v1/accounts/1/conversations/20'\n",
      "For more information check: https://developer.mozilla.org/en-US/docs/Web/HTTP/Status/500\n"
     ]
    },
    {
     "name": "stdout",
     "output_type": "stream",
     "text": [
      "❌ update_custom_attributes failed: Server error '500 Internal Server Error' for url 'https://chat.iditelesom.dev/api/v1/accounts/1/conversations/20'\n",
      "For more information check: https://developer.mozilla.org/en-US/docs/Web/HTTP/Status/500\n",
      "❌ toggle_priority failed: Server error '500 Internal Server Error' for url 'https://chat.iditelesom.dev/api/v1/accounts/1/conversations/20'\n",
      "For more information check: https://developer.mozilla.org/en-US/docs/Web/HTTP/Status/500\n"
     ]
    },
    {
     "name": "stderr",
     "output_type": "stream",
     "text": [
      "Priority update failed for conversation 20:\n",
      "URL: https://chat.iditelesom.dev/api/v1/accounts/1/conversations/20\n",
      "Status: 500\n",
      "Response: {\"status\":500,\"error\":\"Internal Server Error\"}\n",
      "Priority: garbo\n",
      "Traceback (most recent call last):\n",
      "  File \"/home/alexbalandi/teplitsa/chatwoot-dify/app/api/chatwoot.py\", line 158, in toggle_priority\n",
      "    response.raise_for_status()\n",
      "  File \"/home/alexbalandi/teplitsa/chatwoot-dify/.venv/lib/python3.12/site-packages/httpx/_models.py\", line 829, in raise_for_status\n",
      "    raise HTTPStatusError(message, request=request, response=self)\n",
      "httpx.HTTPStatusError: Server error '500 Internal Server Error' for url 'https://chat.iditelesom.dev/api/v1/accounts/1/conversations/20'\n",
      "For more information check: https://developer.mozilla.org/en-US/docs/Web/HTTP/Status/500\n"
     ]
    },
    {
     "name": "stdout",
     "output_type": "stream",
     "text": [
      "❌ toggle_priority failed: Server error '500 Internal Server Error' for url 'https://chat.iditelesom.dev/api/v1/accounts/1/conversations/20'\n",
      "For more information check: https://developer.mozilla.org/en-US/docs/Web/HTTP/Status/500\n",
      "\n",
      "=== Test Summary ===\n",
      "Total tests: 7\n",
      "Passed: 3\n",
      "Failed: 4\n",
      "\n",
      "Failed tests:\n",
      "- update_conversation_status: Server error '500 Internal Server Error' for url 'https://chat.iditelesom.dev/api/v1/accounts/1/conversations/20'\n",
      "For more information check: https://developer.mozilla.org/en-US/docs/Web/HTTP/Status/500\n",
      "- get_conversation_data: Server error '500 Internal Server Error' for url 'https://chat.iditelesom.dev/api/v1/accounts/1/conversations/20'\n",
      "For more information check: https://developer.mozilla.org/en-US/docs/Web/HTTP/Status/500\n",
      "- update_custom_attributes: Server error '500 Internal Server Error' for url 'https://chat.iditelesom.dev/api/v1/accounts/1/conversations/20'\n",
      "For more information check: https://developer.mozilla.org/en-US/docs/Web/HTTP/Status/500\n",
      "- toggle_priority: Server error '500 Internal Server Error' for url 'https://chat.iditelesom.dev/api/v1/accounts/1/conversations/20'\n",
      "For more information check: https://developer.mozilla.org/en-US/docs/Web/HTTP/Status/500\n"
     ]
    }
   ],
   "source": [
    "import asyncio\n",
    "import os\n",
    "\n",
    "from dotenv import load_dotenv\n",
    "\n",
    "from app.api.chatwoot import ChatwootHandler\n",
    "\n",
    "load_dotenv()\n",
    "\n",
    "# Initialize the handler\n",
    "handler = ChatwootHandler(\n",
    "    api_url=os.getenv(\"CHATWOOT_API_URL\") or \"\",\n",
    "    api_key=os.getenv(\"CHATWOOT_API_KEY\") or \"\",\n",
    "    account_id=os.getenv(\"CHATWOOT_ACCOUNT_ID\") or \"\",\n",
    ")\n",
    "\n",
    "\n",
    "async def test_chatwoot():\n",
    "    # Test sending a message\n",
    "    conversation_id = 20  # Replace with actual conversation ID\n",
    "    test_results = {}\n",
    "\n",
    "    async def run_test(name: str, coro):\n",
    "        try:\n",
    "            result = await coro\n",
    "            test_results[name] = {\"status\": \"success\", \"result\": result}\n",
    "            print(f\"✅ {name} succeeded:\", result)\n",
    "        except Exception as e:\n",
    "            test_results[name] = {\"status\": \"failed\", \"error\": str(e)}\n",
    "            print(f\"❌ {name} failed:\", e)\n",
    "\n",
    "    # Test all methods\n",
    "    await run_test(\n",
    "        \"send_message\",\n",
    "        handler.send_message(conversation_id=conversation_id, message=\"Hello, this is a test message!\", private=False),\n",
    "    )\n",
    "\n",
    "    await run_test(\n",
    "        \"update_conversation_status\",\n",
    "        handler.update_conversation_status(conversation_id=conversation_id, status=\"pending\"),\n",
    "    )\n",
    "\n",
    "    await run_test(\n",
    "        \"add_labels\", handler.add_labels(conversation_id=conversation_id, labels=[\"test_label\", \"automated\"])\n",
    "    )\n",
    "\n",
    "    await run_test(\"get_conversation_data\", handler.get_conversation_data(conversation_id))\n",
    "\n",
    "    await run_test(\n",
    "        \"assign_conversation\",\n",
    "        handler.assign_conversation(\n",
    "            conversation_id=conversation_id,\n",
    "            assignee_id=1,  # Replace with actual agent ID\n",
    "        ),\n",
    "    )\n",
    "\n",
    "    await run_test(\n",
    "        \"update_custom_attributes\",\n",
    "        handler.update_custom_attributes(\n",
    "            conversation_id=conversation_id, custom_attributes={\"test_key\": \"test_value\", \"automated\": True}\n",
    "        ),\n",
    "    )\n",
    "\n",
    "    await run_test(\"toggle_priority\", handler.toggle_priority(conversation_id=conversation_id, priority=\"high\"))\n",
    "\n",
    "    # run test where we set priority to garbo value not in literal\n",
    "    await run_test(\"toggle_priority\", handler.toggle_priority(conversation_id=conversation_id, priority=\"garbo\"))\n",
    "\n",
    "    # Print summary\n",
    "    print(\"\\n=== Test Summary ===\")\n",
    "    total_tests = len(test_results)\n",
    "    passed_tests = sum(1 for result in test_results.values() if result[\"status\"] == \"success\")\n",
    "    failed_tests = total_tests - passed_tests\n",
    "\n",
    "    print(f\"Total tests: {total_tests}\")\n",
    "    print(f\"Passed: {passed_tests}\")\n",
    "    print(f\"Failed: {failed_tests}\")\n",
    "\n",
    "    if failed_tests > 0:\n",
    "        print(\"\\nFailed tests:\")\n",
    "        for name, result in test_results.items():\n",
    "            if result[\"status\"] == \"failed\":\n",
    "                print(f\"- {name}: {result['error']}\")\n",
    "\n",
    "\n",
    "# Run the tests\n",
    "await test_chatwoot()"
   ]
  },
  {
   "cell_type": "code",
   "execution_count": 2,
   "metadata": {},
   "outputs": [
    {
     "ename": "NameError",
     "evalue": "name 'abbreviation_to_region' is not defined",
     "output_type": "error",
     "traceback": [
      "\u001b[0;31m---------------------------------------------------------------------------\u001b[0m",
      "\u001b[0;31mNameError\u001b[0m                                 Traceback (most recent call last)",
      "\u001b[1;32m/home/alexbalandi/teplitsa/chatwoot-dify/test_chatwoot.ipynb Cell 2\u001b[0m line \u001b[0;36m1\n\u001b[0;32m----> <a href='vscode-notebook-cell:/home/alexbalandi/teplitsa/chatwoot-dify/test_chatwoot.ipynb#W1sZmlsZQ%3D%3D?line=0'>1</a>\u001b[0m \u001b[39mprint\u001b[39m(\u001b[39mstr\u001b[39m(abbreviation_to_region)\u001b[39m.\u001b[39mreplace(\u001b[39m\"\u001b[39m\u001b[39m'\u001b[39m\u001b[39m\"\u001b[39m, \u001b[39m'\u001b[39m\u001b[39m\"\u001b[39m\u001b[39m'\u001b[39m)\u001b[39m.\u001b[39mreplace(\u001b[39m\"\u001b[39m\u001b[39m\\\\\u001b[39;00m\u001b[39m\"\u001b[39m, \u001b[39m\"\u001b[39m\u001b[39m\"\u001b[39m))\n",
      "\u001b[0;31mNameError\u001b[0m: name 'abbreviation_to_region' is not defined"
     ]
    }
   ],
   "source": [
    "print(str(abbreviation_to_region).replace(\"'\", '\"').replace(\"\\\\\", \"\"))"
   ]
  },
  {
   "cell_type": "code",
   "execution_count": null,
   "metadata": {},
   "outputs": [],
   "source": []
  }
 ],
 "metadata": {
  "language_info": {
   "name": "python"
  }
 },
 "nbformat": 4,
 "nbformat_minor": 2
}
